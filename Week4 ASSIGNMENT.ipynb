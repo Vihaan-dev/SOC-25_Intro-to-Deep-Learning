{
 "cells": [
  {
   "cell_type": "code",
   "execution_count": 2,
   "metadata": {
    "_cell_guid": "b1076dfc-b9ad-4769-8c92-a6c4dae69d19",
    "_uuid": "8f2839f25d086af736a60e9eeb907d3b93b6e0e5",
    "execution": {
     "iopub.execute_input": "2025-06-27T14:50:28.721743Z",
     "iopub.status.busy": "2025-06-27T14:50:28.721434Z",
     "iopub.status.idle": "2025-06-27T14:50:28.728888Z",
     "shell.execute_reply": "2025-06-27T14:50:28.728175Z",
     "shell.execute_reply.started": "2025-06-27T14:50:28.721719Z"
    },
    "trusted": true
   },
   "outputs": [],
   "source": [
    "# This Python 3 environment comes with many helpful analytics libraries installed\n",
    "# It is defined by the kaggle/python Docker image: https://github.com/kaggle/docker-python\n",
    "# For example, here's several helpful packages to load\n",
    "\n",
    "import numpy as np # linear algebra\n",
    "import pandas as pd # data processing, CSV file I/O (e.g. pd.read_csv)\n",
    "\n",
    "# Input data files are available in the read-only \"../input/\" directory\n",
    "# For example, running this (by clicking run or pressing Shift+Enter) will list all files under the input directory\n",
    "\n",
    "import os\n",
    "for dirname, _, filenames in os.walk('/kaggle/input'):\n",
    "    for filename in filenames:\n",
    "        print(os.path.join(dirname, filename))\n",
    "\n",
    "# You can write up to 20GB to the current directory (/kaggle/working/) that gets preserved as output when you create a version using \"Save & Run All\" \n",
    "# You can also write temporary files to /kaggle/temp/, but they won't be saved outside of the current session"
   ]
  },
  {
   "cell_type": "code",
   "execution_count": 5,
   "metadata": {
    "execution": {
     "iopub.execute_input": "2025-06-27T14:50:28.730233Z",
     "iopub.status.busy": "2025-06-27T14:50:28.729947Z",
     "iopub.status.idle": "2025-06-27T14:50:30.750095Z",
     "shell.execute_reply": "2025-06-27T14:50:30.749241Z",
     "shell.execute_reply.started": "2025-06-27T14:50:28.730205Z"
    },
    "trusted": true
   },
   "outputs": [],
   "source": [
    "train_data=pd.read_csv(\"train.csv\")"
   ]
  },
  {
   "cell_type": "code",
   "execution_count": 6,
   "metadata": {
    "execution": {
     "iopub.execute_input": "2025-06-27T14:50:30.751761Z",
     "iopub.status.busy": "2025-06-27T14:50:30.751489Z",
     "iopub.status.idle": "2025-06-27T14:50:30.764788Z",
     "shell.execute_reply": "2025-06-27T14:50:30.763969Z",
     "shell.execute_reply.started": "2025-06-27T14:50:30.751733Z"
    },
    "trusted": true
   },
   "outputs": [
    {
     "data": {
      "text/html": [
       "<div>\n",
       "<style scoped>\n",
       "    .dataframe tbody tr th:only-of-type {\n",
       "        vertical-align: middle;\n",
       "    }\n",
       "\n",
       "    .dataframe tbody tr th {\n",
       "        vertical-align: top;\n",
       "    }\n",
       "\n",
       "    .dataframe thead th {\n",
       "        text-align: right;\n",
       "    }\n",
       "</style>\n",
       "<table border=\"1\" class=\"dataframe\">\n",
       "  <thead>\n",
       "    <tr style=\"text-align: right;\">\n",
       "      <th></th>\n",
       "      <th>label</th>\n",
       "      <th>pixel0</th>\n",
       "      <th>pixel1</th>\n",
       "      <th>pixel2</th>\n",
       "      <th>pixel3</th>\n",
       "      <th>pixel4</th>\n",
       "      <th>pixel5</th>\n",
       "      <th>pixel6</th>\n",
       "      <th>pixel7</th>\n",
       "      <th>pixel8</th>\n",
       "      <th>...</th>\n",
       "      <th>pixel774</th>\n",
       "      <th>pixel775</th>\n",
       "      <th>pixel776</th>\n",
       "      <th>pixel777</th>\n",
       "      <th>pixel778</th>\n",
       "      <th>pixel779</th>\n",
       "      <th>pixel780</th>\n",
       "      <th>pixel781</th>\n",
       "      <th>pixel782</th>\n",
       "      <th>pixel783</th>\n",
       "    </tr>\n",
       "  </thead>\n",
       "  <tbody>\n",
       "    <tr>\n",
       "      <th>0</th>\n",
       "      <td>1</td>\n",
       "      <td>0</td>\n",
       "      <td>0</td>\n",
       "      <td>0</td>\n",
       "      <td>0</td>\n",
       "      <td>0</td>\n",
       "      <td>0</td>\n",
       "      <td>0</td>\n",
       "      <td>0</td>\n",
       "      <td>0</td>\n",
       "      <td>...</td>\n",
       "      <td>0</td>\n",
       "      <td>0</td>\n",
       "      <td>0</td>\n",
       "      <td>0</td>\n",
       "      <td>0</td>\n",
       "      <td>0</td>\n",
       "      <td>0</td>\n",
       "      <td>0</td>\n",
       "      <td>0</td>\n",
       "      <td>0</td>\n",
       "    </tr>\n",
       "    <tr>\n",
       "      <th>1</th>\n",
       "      <td>0</td>\n",
       "      <td>0</td>\n",
       "      <td>0</td>\n",
       "      <td>0</td>\n",
       "      <td>0</td>\n",
       "      <td>0</td>\n",
       "      <td>0</td>\n",
       "      <td>0</td>\n",
       "      <td>0</td>\n",
       "      <td>0</td>\n",
       "      <td>...</td>\n",
       "      <td>0</td>\n",
       "      <td>0</td>\n",
       "      <td>0</td>\n",
       "      <td>0</td>\n",
       "      <td>0</td>\n",
       "      <td>0</td>\n",
       "      <td>0</td>\n",
       "      <td>0</td>\n",
       "      <td>0</td>\n",
       "      <td>0</td>\n",
       "    </tr>\n",
       "    <tr>\n",
       "      <th>2</th>\n",
       "      <td>1</td>\n",
       "      <td>0</td>\n",
       "      <td>0</td>\n",
       "      <td>0</td>\n",
       "      <td>0</td>\n",
       "      <td>0</td>\n",
       "      <td>0</td>\n",
       "      <td>0</td>\n",
       "      <td>0</td>\n",
       "      <td>0</td>\n",
       "      <td>...</td>\n",
       "      <td>0</td>\n",
       "      <td>0</td>\n",
       "      <td>0</td>\n",
       "      <td>0</td>\n",
       "      <td>0</td>\n",
       "      <td>0</td>\n",
       "      <td>0</td>\n",
       "      <td>0</td>\n",
       "      <td>0</td>\n",
       "      <td>0</td>\n",
       "    </tr>\n",
       "    <tr>\n",
       "      <th>3</th>\n",
       "      <td>4</td>\n",
       "      <td>0</td>\n",
       "      <td>0</td>\n",
       "      <td>0</td>\n",
       "      <td>0</td>\n",
       "      <td>0</td>\n",
       "      <td>0</td>\n",
       "      <td>0</td>\n",
       "      <td>0</td>\n",
       "      <td>0</td>\n",
       "      <td>...</td>\n",
       "      <td>0</td>\n",
       "      <td>0</td>\n",
       "      <td>0</td>\n",
       "      <td>0</td>\n",
       "      <td>0</td>\n",
       "      <td>0</td>\n",
       "      <td>0</td>\n",
       "      <td>0</td>\n",
       "      <td>0</td>\n",
       "      <td>0</td>\n",
       "    </tr>\n",
       "    <tr>\n",
       "      <th>4</th>\n",
       "      <td>0</td>\n",
       "      <td>0</td>\n",
       "      <td>0</td>\n",
       "      <td>0</td>\n",
       "      <td>0</td>\n",
       "      <td>0</td>\n",
       "      <td>0</td>\n",
       "      <td>0</td>\n",
       "      <td>0</td>\n",
       "      <td>0</td>\n",
       "      <td>...</td>\n",
       "      <td>0</td>\n",
       "      <td>0</td>\n",
       "      <td>0</td>\n",
       "      <td>0</td>\n",
       "      <td>0</td>\n",
       "      <td>0</td>\n",
       "      <td>0</td>\n",
       "      <td>0</td>\n",
       "      <td>0</td>\n",
       "      <td>0</td>\n",
       "    </tr>\n",
       "  </tbody>\n",
       "</table>\n",
       "<p>5 rows × 785 columns</p>\n",
       "</div>"
      ],
      "text/plain": [
       "   label  pixel0  pixel1  pixel2  pixel3  pixel4  pixel5  pixel6  pixel7  \\\n",
       "0      1       0       0       0       0       0       0       0       0   \n",
       "1      0       0       0       0       0       0       0       0       0   \n",
       "2      1       0       0       0       0       0       0       0       0   \n",
       "3      4       0       0       0       0       0       0       0       0   \n",
       "4      0       0       0       0       0       0       0       0       0   \n",
       "\n",
       "   pixel8  ...  pixel774  pixel775  pixel776  pixel777  pixel778  pixel779  \\\n",
       "0       0  ...         0         0         0         0         0         0   \n",
       "1       0  ...         0         0         0         0         0         0   \n",
       "2       0  ...         0         0         0         0         0         0   \n",
       "3       0  ...         0         0         0         0         0         0   \n",
       "4       0  ...         0         0         0         0         0         0   \n",
       "\n",
       "   pixel780  pixel781  pixel782  pixel783  \n",
       "0         0         0         0         0  \n",
       "1         0         0         0         0  \n",
       "2         0         0         0         0  \n",
       "3         0         0         0         0  \n",
       "4         0         0         0         0  \n",
       "\n",
       "[5 rows x 785 columns]"
      ]
     },
     "execution_count": 6,
     "metadata": {},
     "output_type": "execute_result"
    }
   ],
   "source": [
    "train_data.head()"
   ]
  },
  {
   "cell_type": "code",
   "execution_count": 7,
   "metadata": {
    "execution": {
     "iopub.execute_input": "2025-06-27T14:50:30.765896Z",
     "iopub.status.busy": "2025-06-27T14:50:30.765600Z",
     "iopub.status.idle": "2025-06-27T14:50:30.924260Z",
     "shell.execute_reply": "2025-06-27T14:50:30.923332Z",
     "shell.execute_reply.started": "2025-06-27T14:50:30.765874Z"
    },
    "trusted": true
   },
   "outputs": [
    {
     "name": "stdout",
     "output_type": "stream",
     "text": [
      "(784, 42000)\n",
      "[[0. 1. 0. ... 0. 0. 0.]\n",
      " [1. 0. 1. ... 0. 0. 0.]\n",
      " [0. 0. 0. ... 0. 0. 0.]\n",
      " ...\n",
      " [0. 0. 0. ... 1. 0. 0.]\n",
      " [0. 0. 0. ... 0. 0. 0.]\n",
      " [0. 0. 0. ... 0. 0. 1.]]\n"
     ]
    }
   ],
   "source": [
    "train=np.array(train_data).T\n",
    "Xtrain=train[1:]\n",
    "Ytrain=train[0]\n",
    "m=Ytrain.size\n",
    "pixel=len(Xtrain)\n",
    "print(Xtrain.shape)\n",
    "Ytrainnew=np.zeros((10,m))\n",
    "Ytrainnew[Ytrain,np.arange(0,m)]=1\n",
    "print(Ytrainnew)"
   ]
  },
  {
   "cell_type": "code",
   "execution_count": 8,
   "metadata": {
    "execution": {
     "iopub.execute_input": "2025-06-27T14:50:30.926052Z",
     "iopub.status.busy": "2025-06-27T14:50:30.925818Z",
     "iopub.status.idle": "2025-06-27T14:50:30.930404Z",
     "shell.execute_reply": "2025-06-27T14:50:30.929554Z",
     "shell.execute_reply.started": "2025-06-27T14:50:30.926029Z"
    },
    "trusted": true
   },
   "outputs": [],
   "source": [
    "def init_params(n_l):\n",
    "    W1=np.random.randn(n_l,pixel)*0.01\n",
    "    b1=np.zeros((n_l,1))\n",
    "    W2=np.random.randn(10,n_l)*0.01\n",
    "    b2=np.zeros((10,1))\n",
    "    return W1, b1, W2, b2\n"
   ]
  },
  {
   "cell_type": "code",
   "execution_count": 9,
   "metadata": {
    "execution": {
     "iopub.execute_input": "2025-06-27T14:50:30.931400Z",
     "iopub.status.busy": "2025-06-27T14:50:30.931131Z",
     "iopub.status.idle": "2025-06-27T14:50:30.943325Z",
     "shell.execute_reply": "2025-06-27T14:50:30.942539Z",
     "shell.execute_reply.started": "2025-06-27T14:50:30.931380Z"
    },
    "trusted": true
   },
   "outputs": [],
   "source": [
    "def relu(x):\n",
    "    return np.maximum(0,x)\n",
    "def softmax(z):\n",
    "    #print (np.exp(z[:,0]))\n",
    "    #print(\"SUM WERE DIVIDING BY axis = 0:\",np.sum(np.exp(z[:,0]),axis=0,keepdims=True))\n",
    "    #print(\"SUM WERE DIVIDING BY axis = 1:\",np.sum(np.exp(z[:,0]),axis=1,keepdims=True))\n",
    "    #print(\"Total sum of probabitlities:\",np.sum(np.exp(z)/np.sum(np.exp(z),axis=0,keepdims=True),axis=0,keepdims=True))\n",
    "    return (np.exp(z)/np.sum(np.exp(z),axis=0,keepdims=True))\n",
    "def del_relu(x):\n",
    "    return np.where(x>0,1,0)"
   ]
  },
  {
   "cell_type": "code",
   "execution_count": 10,
   "metadata": {
    "execution": {
     "iopub.execute_input": "2025-06-27T14:50:30.944463Z",
     "iopub.status.busy": "2025-06-27T14:50:30.944188Z",
     "iopub.status.idle": "2025-06-27T14:50:30.957185Z",
     "shell.execute_reply": "2025-06-27T14:50:30.956225Z",
     "shell.execute_reply.started": "2025-06-27T14:50:30.944435Z"
    },
    "trusted": true
   },
   "outputs": [],
   "source": [
    "def forward_prop(W1,b1,W2,b2,X):\n",
    "    Z1=W1.dot(X)+b1\n",
    "    A1=relu(Z1)\n",
    "    Z2=W2.dot(A1)+b2\n",
    "    A2=softmax(Z2)\n",
    "    #print(\"A2 SUm\",np.sum(A2,axis=0,keepdims=True))\n",
    "    cache = {\"Z1\":Z1,\"A1\":A1,\"Z2\":Z2,\"A2\":A2}\n",
    "    return cache, A2\n"
   ]
  },
  {
   "cell_type": "code",
   "execution_count": 11,
   "metadata": {
    "execution": {
     "iopub.execute_input": "2025-06-27T14:50:30.958492Z",
     "iopub.status.busy": "2025-06-27T14:50:30.958122Z",
     "iopub.status.idle": "2025-06-27T14:50:30.972727Z",
     "shell.execute_reply": "2025-06-27T14:50:30.971876Z",
     "shell.execute_reply.started": "2025-06-27T14:50:30.958460Z"
    },
    "trusted": true
   },
   "outputs": [],
   "source": [
    "def back_prop(X,Y,A2,W1,b1,W2,b2,cache):\n",
    "    dZ2=A2-Y\n",
    "    dW2=(1/m)*dZ2.dot(cache[\"A1\"].T)\n",
    "    db2=(1/m)*np.sum(dZ2,axis=1,keepdims=True)\n",
    "    dZ1=W2.T.dot(dZ2)*del_relu(cache[\"Z1\"])\n",
    "    dW1=(1/m)*dZ1@X.T\n",
    "    db1=(1/m)*np.sum(dZ1,axis=1,keepdims=True)\n",
    "    return dW1,db1,dW2,db2"
   ]
  },
  {
   "cell_type": "code",
   "execution_count": 12,
   "metadata": {
    "execution": {
     "iopub.execute_input": "2025-06-27T14:50:30.974127Z",
     "iopub.status.busy": "2025-06-27T14:50:30.973831Z",
     "iopub.status.idle": "2025-06-27T14:50:30.985660Z",
     "shell.execute_reply": "2025-06-27T14:50:30.984887Z",
     "shell.execute_reply.started": "2025-06-27T14:50:30.974099Z"
    },
    "trusted": true
   },
   "outputs": [],
   "source": [
    "def compute_cost(Y,A):\n",
    "    return (1/m)*np.sum(Y*np.log(A)+(1-Y)*np.log(1-A))\n",
    "def update_params(W1,b1,W2,b2,dW1,db1,dW2,db2,learning_rate):\n",
    "    W1-=learning_rate*dW1\n",
    "    b1-=learning_rate*db1\n",
    "    W2-=learning_rate*dW2\n",
    "    b2-=learning_rate*db2\n",
    "    return W1,b1,W2,b2"
   ]
  },
  {
   "cell_type": "code",
   "execution_count": 13,
   "metadata": {
    "execution": {
     "iopub.execute_input": "2025-06-27T14:51:34.856143Z",
     "iopub.status.busy": "2025-06-27T14:51:34.855849Z",
     "iopub.status.idle": "2025-06-27T14:51:34.862008Z",
     "shell.execute_reply": "2025-06-27T14:51:34.861051Z",
     "shell.execute_reply.started": "2025-06-27T14:51:34.856112Z"
    },
    "trusted": true
   },
   "outputs": [],
   "source": [
    "def learn(X,Y,num_its,learning_rate):\n",
    "    W1, b1, W2, b2=init_params(20)\n",
    "    for i in range(num_its):\n",
    "        cache,A2 = forward_prop(W1,b1,W2,b2,X)\n",
    "        cost=compute_cost(Y,A2)\n",
    "        dW1,db1,dW2,db2=back_prop(X,Y,A2,W1,b1,W2,b2,cache)\n",
    "        W1,b1,W2,b2=update_params(W1,b1,W2,b2,dW1,db1,dW2,db2,learning_rate)\n",
    "        if i%10==0:print(\"Cost after\",i,\"th iteration is\",cost)\n",
    "        #print(A2[:,0])\n",
    "        \n",
    "    return W1,b1,W2,b2"
   ]
  },
  {
   "cell_type": "code",
   "execution_count": 14,
   "metadata": {
    "execution": {
     "iopub.execute_input": "2025-06-27T14:51:35.778693Z",
     "iopub.status.busy": "2025-06-27T14:51:35.778374Z",
     "iopub.status.idle": "2025-06-27T14:56:57.625933Z",
     "shell.execute_reply": "2025-06-27T14:56:57.625177Z",
     "shell.execute_reply.started": "2025-06-27T14:51:35.778667Z"
    },
    "trusted": true
   },
   "outputs": [
    {
     "name": "stdout",
     "output_type": "stream",
     "text": [
      "Cost after 0 th iteration is -3.4637825569756915\n",
      "Cost after 10 th iteration is -2.298978676417156\n",
      "Cost after 20 th iteration is -1.5755886268403063\n",
      "Cost after 30 th iteration is -1.2381242449126932\n",
      "Cost after 40 th iteration is -1.0650424344345688\n",
      "Cost after 50 th iteration is -0.9592828741669766\n",
      "Cost after 60 th iteration is -0.8869013087403202\n",
      "Cost after 70 th iteration is -0.8335189106408297\n",
      "Cost after 80 th iteration is -0.7920114713946993\n",
      "Cost after 90 th iteration is -0.7586850889990271\n",
      "Cost after 100 th iteration is -0.7318899883723646\n",
      "Cost after 110 th iteration is -0.7127670249387111\n",
      "Cost after 120 th iteration is -0.7032348467293547\n",
      "Cost after 130 th iteration is -0.6865426873052768\n",
      "Cost after 140 th iteration is -0.660283779027775\n",
      "Cost after 150 th iteration is -0.6417729537868397\n",
      "Cost after 160 th iteration is -0.6281144393639474\n",
      "Cost after 170 th iteration is -0.616478816820924\n",
      "Cost after 180 th iteration is -0.6060192953708443\n",
      "Cost after 190 th iteration is -0.5964420671622683\n",
      "Cost after 200 th iteration is -0.5875786574637732\n",
      "Cost after 210 th iteration is -0.5793385183812098\n",
      "Cost after 220 th iteration is -0.5716345334061982\n",
      "Cost after 230 th iteration is -0.5644023406753271\n",
      "Cost after 240 th iteration is -0.5575961243236695\n",
      "Cost after 250 th iteration is -0.5511538082255111\n",
      "Cost after 260 th iteration is -0.545038698196406\n",
      "Cost after 270 th iteration is -0.5392259530271232\n",
      "Cost after 280 th iteration is -0.5336743913934515\n",
      "Cost after 290 th iteration is -0.5283598262589471\n",
      "Cost after 300 th iteration is -0.5232852041240352\n",
      "Cost after 310 th iteration is -0.5184219195964144\n",
      "Cost after 320 th iteration is -0.5137467840699281\n",
      "Cost after 330 th iteration is -0.5092349336272652\n",
      "Cost after 340 th iteration is -0.5048822471622861\n",
      "Cost after 350 th iteration is -0.5006816050750692\n",
      "Cost after 360 th iteration is -0.4966007956322027\n",
      "Cost after 370 th iteration is -0.4926498272492697\n",
      "Cost after 380 th iteration is -0.48881441362473976\n",
      "Cost after 390 th iteration is -0.4850791209761046\n",
      "Cost after 400 th iteration is -0.48144190492559047\n",
      "Cost after 410 th iteration is -0.47789828835926385\n",
      "Cost after 420 th iteration is -0.47444833688564453\n",
      "Cost after 430 th iteration is -0.47108969477637064\n",
      "Cost after 440 th iteration is -0.4678268197741454\n",
      "Cost after 450 th iteration is -0.4646486507254219\n",
      "Cost after 460 th iteration is -0.46154219140420133\n",
      "Cost after 470 th iteration is -0.4585124108747842\n",
      "Cost after 480 th iteration is -0.45554827839010154\n",
      "Cost after 490 th iteration is -0.45265171391213005\n",
      "Cost after 500 th iteration is -0.44980956512624487\n",
      "Cost after 510 th iteration is -0.4470134486483493\n",
      "Cost after 520 th iteration is -0.4442632314865228\n",
      "Cost after 530 th iteration is -0.44156300522485387\n",
      "Cost after 540 th iteration is -0.43892521517613664\n",
      "Cost after 550 th iteration is -0.4363406157310383\n",
      "Cost after 560 th iteration is -0.43380886949497743\n",
      "Cost after 570 th iteration is -0.4313289522948807\n",
      "Cost after 580 th iteration is -0.4289054449753693\n",
      "Cost after 590 th iteration is -0.4265339301562579\n",
      "Cost after 600 th iteration is -0.4242072871375809\n",
      "Cost after 610 th iteration is -0.42192171527748074\n",
      "Cost after 620 th iteration is -0.41967436176042705\n",
      "Cost after 630 th iteration is -0.4174696931365792\n",
      "Cost after 640 th iteration is -0.41530295575843207\n",
      "Cost after 650 th iteration is -0.41317589628154594\n",
      "Cost after 660 th iteration is -0.4110845050854346\n",
      "Cost after 670 th iteration is -0.40902552525954067\n",
      "Cost after 680 th iteration is -0.40700004889686014\n",
      "Cost after 690 th iteration is -0.4050059375724372\n",
      "Cost after 700 th iteration is -0.403042553968038\n",
      "Cost after 710 th iteration is -0.401106640194399\n",
      "Cost after 720 th iteration is -0.39920459953277904\n",
      "Cost after 730 th iteration is -0.3973336140075243\n",
      "Cost after 740 th iteration is -0.3954875689973977\n",
      "Cost after 750 th iteration is -0.3936721953960933\n",
      "Cost after 760 th iteration is -0.39188181682239287\n",
      "Cost after 770 th iteration is -0.390118904978673\n",
      "Cost after 780 th iteration is -0.38838399111007504\n",
      "Cost after 790 th iteration is -0.38667922778398006\n",
      "Cost after 800 th iteration is -0.3850021286492682\n",
      "Cost after 810 th iteration is -0.38335033732775925\n",
      "Cost after 820 th iteration is -0.3817217748388403\n",
      "Cost after 830 th iteration is -0.3801167294755216\n",
      "Cost after 840 th iteration is -0.3785348923579396\n",
      "Cost after 850 th iteration is -0.3769751687671315\n",
      "Cost after 860 th iteration is -0.37543808493617964\n",
      "Cost after 870 th iteration is -0.3739216417408995\n",
      "Cost after 880 th iteration is -0.37242334147367956\n",
      "Cost after 890 th iteration is -0.3709427863177267\n",
      "Cost after 900 th iteration is -0.36947666986871236\n",
      "Cost after 910 th iteration is -0.3680256519093932\n",
      "Cost after 920 th iteration is -0.36659433593753654\n",
      "Cost after 930 th iteration is -0.3651818277857086\n",
      "Cost after 940 th iteration is -0.3637835523232305\n",
      "Cost after 950 th iteration is -0.3624011599103263\n",
      "Cost after 960 th iteration is -0.36103868407722167\n",
      "Cost after 970 th iteration is -0.3596879470974138\n",
      "Cost after 980 th iteration is -0.3583476011771057\n",
      "Cost after 990 th iteration is -0.3570243704159407\n"
     ]
    }
   ],
   "source": [
    "W1,b1,W2,b2=learn(Xtrain,Ytrainnew,1000,0.001)"
   ]
  },
  {
   "cell_type": "code",
   "execution_count": 15,
   "metadata": {
    "execution": {
     "iopub.execute_input": "2025-06-27T14:58:19.556865Z",
     "iopub.status.busy": "2025-06-27T14:58:19.556536Z",
     "iopub.status.idle": "2025-06-27T14:58:19.562362Z",
     "shell.execute_reply": "2025-06-27T14:58:19.561692Z",
     "shell.execute_reply.started": "2025-06-27T14:58:19.556840Z"
    },
    "trusted": true
   },
   "outputs": [
    {
     "data": {
      "text/plain": [
       "np.int64(1)"
      ]
     },
     "execution_count": 15,
     "metadata": {},
     "output_type": "execute_result"
    }
   ],
   "source": [
    "Ytrain[0]"
   ]
  },
  {
   "cell_type": "code",
   "execution_count": 16,
   "metadata": {
    "execution": {
     "iopub.execute_input": "2025-06-27T15:05:34.379642Z",
     "iopub.status.busy": "2025-06-27T15:05:34.379018Z",
     "iopub.status.idle": "2025-06-27T15:05:34.383733Z",
     "shell.execute_reply": "2025-06-27T15:05:34.382798Z",
     "shell.execute_reply.started": "2025-06-27T15:05:34.379601Z"
    },
    "trusted": true
   },
   "outputs": [],
   "source": [
    "cache, A2=forward_prop(W1,b1,W2,b2,Xtrain[:,3].reshape(784,1))"
   ]
  },
  {
   "cell_type": "code",
   "execution_count": 17,
   "metadata": {
    "execution": {
     "iopub.execute_input": "2025-06-27T15:05:34.754162Z",
     "iopub.status.busy": "2025-06-27T15:05:34.753840Z",
     "iopub.status.idle": "2025-06-27T15:05:34.758864Z",
     "shell.execute_reply": "2025-06-27T15:05:34.758001Z",
     "shell.execute_reply.started": "2025-06-27T15:05:34.754136Z"
    },
    "trusted": true
   },
   "outputs": [
    {
     "name": "stdout",
     "output_type": "stream",
     "text": [
      "[[1.46894463e-01]\n",
      " [7.96712968e-05]\n",
      " [1.29025044e-01]\n",
      " [1.09523837e-02]\n",
      " [3.51909966e-01]\n",
      " [1.75599120e-01]\n",
      " [7.93561536e-02]\n",
      " [9.35805676e-03]\n",
      " [1.54086814e-02]\n",
      " [8.14164605e-02]]\n"
     ]
    }
   ],
   "source": [
    "print(A2)"
   ]
  },
  {
   "cell_type": "code",
   "execution_count": null,
   "metadata": {
    "trusted": true
   },
   "outputs": [],
   "source": []
  }
 ],
 "metadata": {
  "kaggle": {
   "accelerator": "none",
   "dataSources": [
    {
     "databundleVersionId": 861823,
     "sourceId": 3004,
     "sourceType": "competition"
    }
   ],
   "dockerImageVersionId": 31040,
   "isGpuEnabled": false,
   "isInternetEnabled": true,
   "language": "python",
   "sourceType": "notebook"
  },
  "kernelspec": {
   "display_name": "Python 3",
   "language": "python",
   "name": "python3"
  },
  "language_info": {
   "codemirror_mode": {
    "name": "ipython",
    "version": 3
   },
   "file_extension": ".py",
   "mimetype": "text/x-python",
   "name": "python",
   "nbconvert_exporter": "python",
   "pygments_lexer": "ipython3",
   "version": "3.9.6"
  }
 },
 "nbformat": 4,
 "nbformat_minor": 4
}
