{
 "cells": [
  {
   "cell_type": "markdown",
   "metadata": {},
   "source": [
    "# Introduction to Deep Learning"
   ]
  },
  {
   "cell_type": "code",
   "execution_count": 200,
   "metadata": {},
   "outputs": [],
   "source": [
    "import numpy as np\n",
    "import matplotlib.pyplot as plt\n",
    "import h5py"
   ]
  },
  {
   "cell_type": "markdown",
   "metadata": {},
   "source": [
    "You are given a dataset containing:\n",
    "- a training set of m_train images labeled as cat (y=1) or non-cat (y=0)\n",
    "- a test set of m_test images labeled as cat or non-cat\n",
    "- each image is of shape `(num_px, num_px, 3)` where 3 is for the 3 channels (RGB). Thus, each image is square (height = num_px) and (width = num_px).\n",
    "\n",
    "You will build a simple image-recognition algorithm that can correctly classify pictures as cat or non-cat.\n",
    "\n",
    "Let's get more familiar with the dataset. Load the data by running the following code."
   ]
  },
  {
   "cell_type": "code",
   "execution_count": 201,
   "metadata": {},
   "outputs": [
    {
     "name": "stdout",
     "output_type": "stream",
     "text": [
      "(209, 64, 64, 3) (1, 209)\n"
     ]
    }
   ],
   "source": [
    "def loadDataset():\n",
    "    trainDataset = h5py.File(\"datasets/train_catvnoncat.h5\", \"r\")\n",
    "    #print(trainDataset[\"train_set_x\"][:])\n",
    "    trainDatasetX = np.array(trainDataset[\"train_set_x\"][:])\n",
    "    trainDatasetY = np.array(trainDataset[\"train_set_y\"][:])\n",
    "    \n",
    "    testDataset = h5py.File(\"datasets/test_catvnoncat.h5\")\n",
    "    testDatasetX = np.array(testDataset[\"test_set_x\"][:])\n",
    "    testDatasetY = np.array(testDataset[\"test_set_y\"][:])\n",
    "\n",
    "    classes = np.array(trainDataset[\"list_classes\"][:])\n",
    "\n",
    "    trainDatasetY = trainDatasetY.reshape((1, trainDatasetY.shape[0]))\n",
    "    testDatasetY = testDatasetY.reshape((1, testDatasetY.shape[0]))\n",
    "    return trainDatasetX, trainDatasetY, testDatasetX, testDatasetY, classes\n",
    "\n",
    "trainDatasetX, trainDatasetY, testDatasetX, testDatasetY, classes = loadDataset()\n",
    "print(trainDatasetX.shape, trainDatasetY.shape)"
   ]
  },
  {
   "cell_type": "markdown",
   "metadata": {},
   "source": [
    "Each line of your train_set_x_orig and test_set_x_orig is an array representing an image. You can visualize an example by running the following code. Feel free also to change the `index` value and re-run to see other images. "
   ]
  },
  {
   "cell_type": "code",
   "execution_count": 202,
   "metadata": {},
   "outputs": [
    {
     "data": {
      "image/png": "[encoded data removed]",
      "text/plain": [
       "<Figure size 640x480 with 1 Axes>"
      ]
     },
     "metadata": {},
     "output_type": "display_data"
    },
    {
     "name": "stdout",
     "output_type": "stream",
     "text": [
      "y = 0, it's a 'non-cat' picture.\n"
     ]
    }
   ],
   "source": [
    "index = 190\n",
    "plt.imshow(trainDatasetX[index])\n",
    "plt.show()\n",
    "print (\"y = \" + str(trainDatasetY[0, index]) + \", it's a '\" + classes[np.squeeze(trainDatasetY[:, index])].decode(\"utf-8\") +  \"' picture.\")"
   ]
  },
  {
   "cell_type": "markdown",
   "metadata": {},
   "source": [
    "Find the values for:\n",
    "- m_train (number of training examples)\n",
    "- m_test (number of test examples)\n",
    "- num_px (= height = width of a training image)  \n",
    "Remember that `train_set_x_orig` is a numpy-array of shape (m_train, num_px, num_px, 3). For instance, you can access `m_train` by writing `train_set_x_orig.shape[0]`."
   ]
  },
  {
   "cell_type": "code",
   "execution_count": 203,
   "metadata": {},
   "outputs": [
    {
     "name": "stdout",
     "output_type": "stream",
     "text": [
      "Number of training examples:  209\n",
      "Number of testing examples:  50\n",
      "Height of image:  64 px\n",
      "Shape of image:  (64, 64, 3)\n",
      "Shape of training dataset X:  (209, 64, 64, 3)\n",
      "Shape of training dataset Y:  (1, 209)\n"
     ]
    }
   ],
   "source": [
    "m_train = trainDatasetX.shape[0]\n",
    "m_test = testDatasetX.shape[0]\n",
    "num_px =  testDatasetX.shape[1]\n",
    "\n",
    "# let's print some usefull imformation\n",
    "print(\"Number of training examples: \", m_train)\n",
    "print(\"Number of testing examples: \", m_test)\n",
    "print(\"Height of image: \", num_px, \"px\")\n",
    "print(\"Shape of image: \", trainDatasetX[0].shape)\n",
    "print(\"Shape of training dataset X: \", trainDatasetX.shape)\n",
    "print(\"Shape of training dataset Y: \", trainDatasetY.shape)"
   ]
  },
  {
   "cell_type": "markdown",
   "metadata": {},
   "source": [
    "For convenience, you should now reshape images of shape (num_px, num_px, 3) in a numpy-array of shape (num_px $*$ num_px $*$ 3, 1). After this, our training (and test) dataset is a numpy-array where each column represents a flattened image. There should be m_train (respectively m_test) columns.\n",
    "\n",
    "A trick when you want to flatten a matrix X of shape (a,b,c,d) to a matrix X_flatten of shape (b * c * d, a) is to use: \n",
    "```\n",
    "X_flatten = X.reshape(X.shape[0], -1).T\n",
    "```"
   ]
  },
  {
   "cell_type": "code",
   "execution_count": 204,
   "metadata": {},
   "outputs": [
    {
     "name": "stdout",
     "output_type": "stream",
     "text": [
      "Shape of XFlatten:  (12288, 209)\n",
      "Shape of XTestFlatten:  (12288, 50)\n"
     ]
    }
   ],
   "source": [
    "\"\"\"XTrainFlatten = trainDatasetX.reshape(-1,m_train)\n",
    "XTestFlatten = testDatasetX.reshape(-1,m_test)\n",
    "\"\"\"\n",
    "XTrainFlatten = trainDatasetX.reshape(trainDatasetX.shape[0], -1).T\n",
    "XTestFlatten = testDatasetX.reshape(testDatasetX.shape[0], -1).T\n",
    "print(\"Shape of XFlatten: \", XTrainFlatten.shape)\n",
    "print(\"Shape of XTestFlatten: \", XTestFlatten.shape)"
   ]
  },
  {
   "cell_type": "markdown",
   "metadata": {},
   "source": [
    "To represent color images, the red, green and blue channels (RGB) must be specified for each pixel, and so the pixel value is actually a vector of three numbers ranging from 0 to 255.\n",
    "\n",
    "One common preprocessing step in machine learning is to center and standardize your dataset, meaning that you substract the mean of the whole numpy array from each example, and then divide each example by the standard deviation of the whole numpy array. But for picture datasets, it is simpler and more convenient and works almost as well to just divide every row of the dataset by 255 (the maximum value of a pixel channel)."
   ]
  },
  {
   "cell_type": "code",
   "execution_count": 205,
   "metadata": {},
   "outputs": [],
   "source": [
    "XTrainFlatten = XTrainFlatten / 255\n",
    "XTestFlatten = XTestFlatten / 255"
   ]
  },
  {
   "cell_type": "markdown",
   "metadata": {},
   "source": [
    "Sigmoid Function"
   ]
  },
  {
   "cell_type": "code",
   "execution_count": 206,
   "metadata": {},
   "outputs": [],
   "source": [
    "def sigmoid(z):\n",
    "    return 1/(1+np.exp(-z))"
   ]
  },
  {
   "cell_type": "markdown",
   "metadata": {},
   "source": [
    "Initialize Parameters"
   ]
  },
  {
   "cell_type": "code",
   "execution_count": 207,
   "metadata": {},
   "outputs": [],
   "source": [
    "def initializeParameters(dim):\n",
    "    w = np.zeros((dim,1))\n",
    "    b = 0.0\n",
    "    return w, b"
   ]
  },
  {
   "cell_type": "markdown",
   "metadata": {},
   "source": [
    "## Logistic Regression \n",
    "#### Forward Propagation\n",
    "$$\n",
    "Z = W^T X + b  \\\\\n",
    "A = sigmoid(X) \\\\\n",
    "$$\n",
    "#### Calculate Cost\n",
    "$$\n",
    "J = -\\frac{1}{m}\\sum_{i=1}^{m}y^{(i)}\\log(a^{(i)})+(1-y^{(i)})\\log(1-a^{(i)})\n",
    "$$\n",
    "#### Backward Propagation\n",
    "$$ \\partial W = \\frac{\\partial J}{\\partial W} = \\frac{1}{m}X(A-Y)^T\\tag{7}$$\n",
    "$$ \\partial b = \\frac{\\partial J}{\\partial b} = \\frac{1}{m} \\sum_{i=1}^m (a^{(i)}-y^{(i)})\\tag{8}$$\n",
    "#### Parameter Updation\n",
    "$$ W = W - \\alpha \\text{ } \\partial W $$\n",
    "$$ b = b - \\alpha \\text{ } \\partial b $$"
   ]
  },
  {
   "cell_type": "markdown",
   "metadata": {},
   "source": [
    "Let's implements forward propagation, cost calculation and backward propagation in one function"
   ]
  },
  {
   "cell_type": "code",
   "execution_count": 208,
   "metadata": {},
   "outputs": [],
   "source": [
    "def propagate(w, b, X, Y):\n",
    "    m = X.shape[1]\n",
    "\n",
    "    #forward prop\n",
    "    Z = w.T.dot(X)+b\n",
    "    A = sigmoid(Z)\n",
    "    #cost calculation\n",
    "    #cost = (-1/m)*np.sum(np.multiply(Y,np.log(A))+np.multiply(1-Y,np.log(1-A)))\n",
    "    cost = (-1/m)*np.sum((Y*np.log(A))+((1-Y)*np.log(1-A)))\n",
    "    #backward prop\n",
    "    db = (1/m)*np.sum(A-Y)\n",
    "    dw = (1/m)*np.dot(X,(A-Y).T)\n",
    "    grad = {\"dw\": dw,\n",
    "            \"db\": db}\n",
    "    \n",
    "    return grad, cost"
   ]
  },
  {
   "cell_type": "markdown",
   "metadata": {},
   "source": [
    "Implement gradient decent for training our weights"
   ]
  },
  {
   "cell_type": "code",
   "execution_count": 209,
   "metadata": {},
   "outputs": [],
   "source": [
    "def train_model(X, Y, numIterations, learningRate, printCost = False):\n",
    "    nx = X.shape[0]\n",
    "    m = X.shape[1]\n",
    "    w, b = initializeParameters(nx)\n",
    "    costs = []\n",
    "\n",
    "    for i in range(numIterations):\n",
    "        #forward propagation, cost calculation and backward propagation\n",
    "        grad, cost = propagate(w, b, X, Y)\n",
    "        costs.append(cost)\n",
    "        #update weights\n",
    "        w -= learningRate*grad[\"dw\"]\n",
    "        b -= learningRate*grad[\"db\"]\n",
    "\n",
    "        if(printCost and i%100==0):\n",
    "            print(f\"Cost after {i} iterations: {cost}\")\n",
    "    \n",
    "    params = {\"w\": w,\n",
    "              \"b\": b}\n",
    "    \n",
    "    return params, costs"
   ]
  },
  {
   "cell_type": "code",
   "execution_count": 210,
   "metadata": {},
   "outputs": [
    {
     "name": "stdout",
     "output_type": "stream",
     "text": [
      "Cost after 0 iterations: 0.6931471805599453\n",
      "Cost after 100 iterations: 0.5845083636993086\n",
      "Cost after 200 iterations: 0.4669490409465547\n",
      "Cost after 300 iterations: 0.3760068669480208\n",
      "Cost after 400 iterations: 0.3314632893282512\n",
      "Cost after 500 iterations: 0.30327306747438293\n",
      "Cost after 600 iterations: 0.27987958658260487\n",
      "Cost after 700 iterations: 0.2600421369258757\n",
      "Cost after 800 iterations: 0.2429406846779662\n",
      "Cost after 900 iterations: 0.22800422256726066\n",
      "Cost after 1000 iterations: 0.2148195137844964\n",
      "Cost after 1100 iterations: 0.20307819060644988\n",
      "Cost after 1200 iterations: 0.19254427716706862\n",
      "Cost after 1300 iterations: 0.18303333796883509\n",
      "Cost after 1400 iterations: 0.17439859438448876\n",
      "Cost after 1500 iterations: 0.16652139705400335\n",
      "Cost after 1600 iterations: 0.15930451829756617\n",
      "Cost after 1700 iterations: 0.15266732471296504\n",
      "Cost after 1800 iterations: 0.1465422350398234\n",
      "Cost after 1900 iterations: 0.14087207570310162\n"
     ]
    }
   ],
   "source": [
    "params, costs = train_model(XTrainFlatten, trainDatasetY, numIterations = 2000, learningRate = 0.005, printCost = True)"
   ]
  },
  {
   "cell_type": "markdown",
   "metadata": {},
   "source": [
    "Let's see how cost decrease with iterations"
   ]
  },
  {
   "cell_type": "code",
   "execution_count": 211,
   "metadata": {},
   "outputs": [
    {
     "data": {
      "image/png": "[encoded data removed]",
      "text/plain": [
       "<Figure size 640x480 with 1 Axes>"
      ]
     },
     "metadata": {},
     "output_type": "display_data"
    }
   ],
   "source": [
    "plt.plot(costs)\n",
    "plt.show()"
   ]
  },
  {
   "cell_type": "markdown",
   "metadata": {},
   "source": [
    "Let's Predict out model's output on train and test images and and see how our model performed"
   ]
  },
  {
   "cell_type": "code",
   "execution_count": 212,
   "metadata": {},
   "outputs": [
    {
     "name": "stdout",
     "output_type": "stream",
     "text": [
      "W: [[ 0.00961402]\n",
      " [-0.0264683 ]\n",
      " [-0.01226513]\n",
      " ...\n",
      " [-0.01144453]\n",
      " [-0.02944783]\n",
      " [ 0.02378106]]\n",
      "b: -0.015906243999692968\n",
      "A: [[1.96533335e-01 8.97519936e-02 8.90887727e-01 2.05354859e-04\n",
      "  4.10043201e-02 1.13855541e-01 3.58425358e-02 9.20256043e-01\n",
      "  8.11815498e-02 5.09505652e-02 1.43687735e-01 7.77661312e-01\n",
      "  2.37002682e-01 9.26822611e-01 7.20256211e-01 4.54525029e-02\n",
      "  2.88164240e-02 4.96209946e-02 9.53642451e-02 9.27127783e-01\n",
      "  1.46871713e-02 4.42749993e-02 1.99658284e-01 5.10794145e-02\n",
      "  8.71854257e-01 8.54873232e-01 4.43988460e-02 8.41877286e-01\n",
      "  5.57178266e-02 7.39175253e-01 8.73390575e-02 7.61255429e-02\n",
      "  2.01282223e-01 2.02159519e-01 7.95065561e-02 3.69885691e-02\n",
      "  1.14655638e-02 5.90397260e-02 8.36880946e-01 3.33057415e-01\n",
      "  1.98548242e-02 4.46965063e-01 8.23737950e-01 4.13465923e-02\n",
      "  4.61512591e-02 1.21739845e-01 9.76716144e-02 8.07086225e-01\n",
      "  8.93389416e-03 3.73249849e-02 7.53711249e-01 2.47934596e-01\n",
      "  1.47013078e-01 3.93089594e-01 9.02530607e-01 3.94290174e-03\n",
      "  9.38300399e-01 8.14429890e-01 5.51201724e-02 9.56820776e-01\n",
      "  8.35826040e-01 7.75371183e-01 4.97406386e-02 5.05302748e-02\n",
      "  1.68276426e-01 7.39795683e-02 4.23114248e-02 1.80374321e-01\n",
      "  7.36839673e-01 2.36170561e-02 4.78407244e-02 9.72682719e-01\n",
      "  8.87430447e-02 1.40500115e-01 7.39006094e-02 5.87414480e-01\n",
      "  8.55122639e-04 3.51320419e-02 7.21341360e-02 1.59367000e-01\n",
      "  9.18793718e-02 2.76678199e-03 2.16954763e-02 8.75788002e-01\n",
      "  7.48905473e-01 2.61224310e-02 1.31264831e-01 5.58549892e-02\n",
      "  7.96470422e-01 4.31114360e-02 2.46081640e-01 9.28094796e-02\n",
      "  5.13207713e-01 9.23532733e-01 9.11010943e-01 1.56664277e-01\n",
      "  1.40529680e-01 8.72871654e-01 6.33390909e-02 2.04276699e-01\n",
      "  1.50378528e-01 5.42005811e-02 7.16869008e-01 8.93930822e-02\n",
      "  9.68748123e-01 1.16897229e-01 9.65813244e-01 7.63463753e-01\n",
      "  8.45184245e-01 7.94804824e-01 8.77046596e-01 8.92528474e-01\n",
      "  2.33698759e-02 1.08088606e-01 9.41045938e-02 5.06133571e-02\n",
      "  6.14255764e-02 8.74814031e-01 7.14021606e-03 1.49573407e-01\n",
      "  1.38752636e-02 5.75050572e-01 4.74218632e-02 2.67728414e-04\n",
      "  8.16437270e-01 5.25431990e-03 8.27320337e-01 1.63520986e-01\n",
      "  9.19597717e-01 9.11124533e-01 2.96731271e-01 1.37316359e-01\n",
      "  7.56632692e-02 9.51896490e-01 7.13340131e-01 5.62771203e-01\n",
      "  8.46803645e-01 8.81283783e-01 5.80214923e-03 3.24191787e-02\n",
      "  3.66569448e-02 4.24241240e-02 9.02746461e-01 6.95602248e-03\n",
      "  7.28528692e-01 8.04734016e-01 8.48847026e-01 1.97286016e-01\n",
      "  8.73972266e-01 8.56810568e-01 4.60108117e-01 9.98074787e-02\n",
      "  2.67726747e-02 9.16713593e-01 5.70477051e-02 2.34413956e-01\n",
      "  9.17441504e-01 1.43642340e-02 1.48384241e-02 4.18971050e-02\n",
      "  4.81257763e-03 6.74987512e-02 7.96958661e-01 7.94548221e-02\n",
      "  8.88055227e-01 1.63703299e-02 9.64896262e-01 4.74597209e-02\n",
      "  3.78354422e-02 6.75950812e-01 7.60983832e-01 8.91154251e-01\n",
      "  2.15482871e-01 1.80695199e-02 9.46591763e-01 7.71101522e-01\n",
      "  4.14565207e-02 8.02916154e-01 8.02541805e-02 6.89037478e-01\n",
      "  4.92103989e-02 4.87010785e-02 1.89987579e-02 3.71043577e-02\n",
      "  1.73595068e-03 7.71575747e-01 4.06433366e-02 6.60606392e-02\n",
      "  8.34508562e-01 2.27408842e-02 6.17839573e-02 4.56149270e-02\n",
      "  7.64947622e-01 6.19347921e-02 3.55887869e-03 1.03103435e-01\n",
      "  3.83745905e-01 8.77909931e-01 7.72818586e-02 1.79082665e-02\n",
      "  8.09911232e-01 2.02130387e-02 1.89353139e-02 1.83142729e-02\n",
      "  1.94041166e-01 2.01151983e-01 8.48224028e-02 1.61929290e-01\n",
      "  1.82858623e-01]]\n",
      "Y_Prediction: [[0. 0. 1. 0. 0. 0. 0. 1. 0. 0. 0. 1. 0. 1. 1. 0. 0. 0. 0. 1. 0. 0. 0. 0.\n",
      "  1. 1. 0. 1. 0. 1. 0. 0. 0. 0. 0. 0. 0. 0. 1. 0. 0. 0. 1. 0. 0. 0. 0. 1.\n",
      "  0. 0. 1. 0. 0. 0. 1. 0. 1. 1. 0. 1. 1. 1. 0. 0. 0. 0. 0. 0. 1. 0. 0. 1.\n",
      "  0. 0. 0. 1. 0. 0. 0. 0. 0. 0. 0. 1. 1. 0. 0. 0. 1. 0. 0. 0. 1. 1. 1. 0.\n",
      "  0. 1. 0. 0. 0. 0. 1. 0. 1. 0. 1. 1. 1. 1. 1. 1. 0. 0. 0. 0. 0. 1. 0. 0.\n",
      "  0. 1. 0. 0. 1. 0. 1. 0. 1. 1. 0. 0. 0. 1. 1. 1. 1. 1. 0. 0. 0. 0. 1. 0.\n",
      "  1. 1. 1. 0. 1. 1. 0. 0. 0. 1. 0. 0. 1. 0. 0. 0. 0. 0. 1. 0. 1. 0. 1. 0.\n",
      "  0. 1. 1. 1. 0. 0. 1. 1. 0. 1. 0. 1. 0. 0. 0. 0. 0. 1. 0. 0. 1. 0. 0. 0.\n",
      "  1. 0. 0. 0. 0. 1. 0. 0. 1. 0. 0. 0. 0. 0. 0. 0. 0.]]\n",
      "W: [[ 0.00961402]\n",
      " [-0.0264683 ]\n",
      " [-0.01226513]\n",
      " ...\n",
      " [-0.01144453]\n",
      " [-0.02944783]\n",
      " [ 0.02378106]]\n",
      "b: -0.015906243999692968\n",
      "A: [[0.94366988 0.86095311 0.88896715 0.93630641 0.74075403 0.52849619\n",
      "  0.03094677 0.85707681 0.88457925 0.67279696 0.26601085 0.4823794\n",
      "  0.74741157 0.78575729 0.00978911 0.9203284  0.02453695 0.84884703\n",
      "  0.2050248  0.03703224 0.92931392 0.11930532 0.01411064 0.7832698\n",
      "  0.58188015 0.66897565 0.75119007 0.01323558 0.03402649 0.99735115\n",
      "  0.21031727 0.78123225 0.6815842  0.46647604 0.66323375 0.03424828\n",
      "  0.08031627 0.76570656 0.34760863 0.06177743 0.6987531  0.4106426\n",
      "  0.6648871  0.02776868 0.93053125 0.46395717 0.23971605 0.9771735\n",
      "  0.66202407 0.10482388]]\n",
      "Y_Prediction: [[1. 1. 1. 1. 1. 1. 0. 1. 1. 1. 0. 0. 1. 1. 0. 1. 0. 1. 0. 0. 1. 0. 0. 1.\n",
      "  1. 1. 1. 0. 0. 1. 0. 1. 1. 0. 1. 0. 0. 1. 0. 0. 1. 0. 1. 0. 1. 0. 0. 1.\n",
      "  1. 0.]]\n",
      "train accuracy: 99.04306220095694\n",
      "test accuracy: 70.0\n"
     ]
    }
   ],
   "source": [
    "def predict(params, X, Y):\n",
    "    w = params[\"w\"]\n",
    "    b = params[\"b\"]\n",
    "    print(\"W:\",w)\n",
    "    print(\"b:\",b)\n",
    "    Z = w.T.dot(X) + b\n",
    "    A = sigmoid(Z)\n",
    "    print(\"A:\",A)\n",
    "    Y_Prediction = (A > 0.5) * 1.0\n",
    "    print(\"Y_Prediction:\",Y_Prediction)\n",
    "    return Y_Prediction\n",
    "\n",
    "#checking accuracy\n",
    "\n",
    "#print(XTestFlatten.shape)\n",
    "trainPrediction = predict(params, XTrainFlatten, trainDatasetY)\n",
    "testPrediction = predict(params, XTestFlatten, testDatasetY)\n",
    "print(f\"train accuracy: {100-np.mean(np.abs(trainPrediction-trainDatasetY))*100}\")\n",
    "print(f\"test accuracy: {100-np.mean(np.abs(testPrediction-testDatasetY))*100}\")"
   ]
  },
  {
   "cell_type": "code",
   "execution_count": null,
   "metadata": {},
   "outputs": [],
   "source": []
  }
 ],
 "metadata": {
  "kernelspec": {
   "display_name": "Python 3 (ipykernel)",
   "language": "python",
   "name": "python3"
  },
  "language_info": {
   "codemirror_mode": {
    "name": "ipython",
    "version": 3
   },
   "file_extension": ".py",
   "mimetype": "text/x-python",
   "name": "python",
   "nbconvert_exporter": "python",
   "pygments_lexer": "ipython3",
   "version": "3.9.6"
  }
 },
 "nbformat": 4,
 "nbformat_minor": 4
}
